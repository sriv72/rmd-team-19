{
 "cells": [
  {
   "cell_type": "code",
   "execution_count": 11,
   "metadata": {},
   "outputs": [
    {
     "name": "stdout",
     "output_type": "stream",
     "text": [
      "Once deleted, variables cannot be recovered. Proceed (y/[n])? y\n"
     ]
    }
   ],
   "source": [
    "reset"
   ]
  },
  {
   "cell_type": "code",
   "execution_count": 12,
   "metadata": {},
   "outputs": [],
   "source": [
    "import numpy as np\n",
    "from scipy.optimize import fsolve\n",
    "import matplotlib.pyplot as plt"
   ]
  },
  {
   "cell_type": "code",
   "execution_count": 13,
   "metadata": {},
   "outputs": [],
   "source": [
    "l12 = 1;\n",
    "l23 = 2.93;\n",
    "l2 = 2.71;\n",
    "l3 = 1.64;\n",
    "l4 = 2.07;\n",
    "l5 = 1.93;\n",
    "l6 = 5.43;"
   ]
  },
  {
   "cell_type": "code",
   "execution_count": 14,
   "metadata": {},
   "outputs": [
    {
     "name": "stdout",
     "output_type": "stream",
     "text": [
      "Solution:\n",
      "t1 = 19.032367764988944\n",
      "t2 = 22.35061995740829\n",
      "t4 = 22.233350961528092\n",
      "t5 = 7.326611460926498\n"
     ]
    }
   ],
   "source": [
    "# all angles need to be in radians\n",
    "# t3 is our \"input\" angle since this describes the angle that the CAM will eventually preturb\n",
    "t3 = 0.4  # Example value just to be sure code runs like expected\n",
    "\n",
    "def equations(x):\n",
    "    t1, t2, t4, t5 = x\n",
    "    e1x = l6 - l23 * np.cos(t1) + l4 * np.cos(t4) - l3 * np.cos(t3) + l5 * np.cos(t5)\n",
    "    e1y = -l23 * np.sin(t1) + l4 * np.sin(t4) - l3 * np.sin(t3) + l5 * np.sin(t5)\n",
    "    e2x = l3 * np.cos(t3) - l4 * np.cos(t4) - l12 * np.cos(t1) + l2 * np.cos(t2)\n",
    "    e2y = l3 * np.sin(t3) - l4 * np.sin(t4) - l12 * np.sin(t1) + l2 * np.sin(t2)\n",
    "    return [e1x, e1y, e2x, e2y]\n",
    "\n",
    "# Initial guess\n",
    "t1_guess = 0.0\n",
    "t2_guess = 0.0\n",
    "t4_guess = 0.0\n",
    "t5_guess = 0.0\n",
    "initial_guess = [t1_guess, t2_guess, t4_guess, t5_guess]\n",
    "t_bounds = [(0, np.pi)]  # fsolve doesnt have bounds argument, but i would want these bounds if i could\n",
    "\n",
    "# Solving the system of equations\n",
    "solution = fsolve(equations, initial_guess)\n",
    "print(\"Solution:\")\n",
    "print(\"t1 =\", solution[0])\n",
    "print(\"t2 =\", solution[1])\n",
    "print(\"t4 =\", solution[2])\n",
    "print(\"t5 =\", solution[3])"
   ]
  },
  {
   "cell_type": "code",
   "execution_count": 15,
   "metadata": {},
   "outputs": [],
   "source": [
    "# Given angle inputs... torsion spring fully pressed at t3=0 and torsion spring fully relaxed at t3=pi/2\n",
    "t3 = np.linspace(0,np.pi/2,100)\n",
    "\n",
    "t1=[]\n",
    "t2=[]\n",
    "t4=[]\n",
    "t5=[]\n",
    "\n",
    "for i in t3:\n",
    "    def equations(x):\n",
    "        t1, t2, t4, t5 = x\n",
    "        e1x = l6 - l23 * np.cos(t1) + l4 * np.cos(t4) - l3 * np.cos(i) + l5 * np.cos(t5)\n",
    "        e1y = -l23 * np.sin(t1) + l4 * np.sin(t4) - l3 * np.sin(i) + l5 * np.sin(t5)\n",
    "        e2x = l3 * np.cos(i) - l4 * np.cos(t4) - l12 * np.cos(t1) + l2 * np.cos(t2)\n",
    "        e2y = l3 * np.sin(i) - l4 * np.sin(t4) - l12 * np.sin(t1) + l2 * np.sin(t2)\n",
    "        return [e1x, e1y, e2x, e2y]\n",
    "\n",
    "    # Initial guess\n",
    "    t1_guess = 0.0\n",
    "    t2_guess = 0.0\n",
    "    t4_guess = 0.0\n",
    "    t5_guess = 0.0\n",
    "    initial_guess = [t1_guess, t2_guess, t4_guess, t5_guess]\n",
    "\n",
    "    # Solving the system of equations\n",
    "    solution = fsolve(equations, initial_guess)\n",
    "    t1.append(solution[0]%(2 * np.pi))\n",
    "    t2.append(solution[1]%(2 * np.pi))\n",
    "    t4.append(solution[2]%(2 * np.pi))\n",
    "    t5.append(solution[3]%(2 * np.pi))"
   ]
  },
  {
   "cell_type": "code",
   "execution_count": 16,
   "metadata": {},
   "outputs": [
    {
     "data": {
      "text/plain": [
       "<matplotlib.collections.PathCollection at 0x7fe2c9baa790>"
      ]
     },
     "execution_count": 16,
     "metadata": {},
     "output_type": "execute_result"
    },
    {
     "data": {
      "image/png": "[encoded data removed]",
      "text/plain": [
       "<Figure size 432x288 with 1 Axes>"
      ]
     },
     "metadata": {
      "needs_background": "light"
     },
     "output_type": "display_data"
    }
   ],
   "source": [
    "plt.scatter(t3,t1)"
   ]
  },
  {
   "cell_type": "code",
   "execution_count": 17,
   "metadata": {},
   "outputs": [
    {
     "data": {
      "text/plain": [
       "<matplotlib.collections.PathCollection at 0x7fe2c9dccc50>"
      ]
     },
     "execution_count": 17,
     "metadata": {},
     "output_type": "execute_result"
    },
    {
     "data": {
      "image/png": "[encoded data removed]",
      "text/plain": [
       "<Figure size 432x288 with 1 Axes>"
      ]
     },
     "metadata": {
      "needs_background": "light"
     },
     "output_type": "display_data"
    }
   ],
   "source": [
    "plt.scatter(t3,t2)"
   ]
  },
  {
   "cell_type": "code",
   "execution_count": 18,
   "metadata": {},
   "outputs": [
    {
     "data": {
      "text/plain": [
       "<matplotlib.collections.PathCollection at 0x7fe2c9e6e790>"
      ]
     },
     "execution_count": 18,
     "metadata": {},
     "output_type": "execute_result"
    },
    {
     "data": {
      "image/png": "[encoded data removed]",
      "text/plain": [
       "<Figure size 432x288 with 1 Axes>"
      ]
     },
     "metadata": {
      "needs_background": "light"
     },
     "output_type": "display_data"
    }
   ],
   "source": [
    "plt.scatter(t3,t4)"
   ]
  },
  {
   "cell_type": "code",
   "execution_count": 19,
   "metadata": {},
   "outputs": [
    {
     "data": {
      "text/plain": [
       "<matplotlib.collections.PathCollection at 0x7fe2c9d7a6d0>"
      ]
     },
     "execution_count": 19,
     "metadata": {},
     "output_type": "execute_result"
    },
    {
     "data": {
      "image/png": "[encoded data removed]",
      "text/plain": [
       "<Figure size 432x288 with 1 Axes>"
      ]
     },
     "metadata": {
      "needs_background": "light"
     },
     "output_type": "display_data"
    }
   ],
   "source": [
    "plt.scatter(t3,t5)"
   ]
  },
  {
   "cell_type": "code",
   "execution_count": null,
   "metadata": {},
   "outputs": [],
   "source": []
  }
 ],
 "metadata": {
  "kernelspec": {
   "display_name": "Python 3",
   "language": "python",
   "name": "python3"
  },
  "language_info": {
   "codemirror_mode": {
    "name": "ipython",
    "version": 3
   },
   "file_extension": ".py",
   "mimetype": "text/x-python",
   "name": "python",
   "nbconvert_exporter": "python",
   "pygments_lexer": "ipython3",
   "version": "3.7.4"
  }
 },
 "nbformat": 4,
 "nbformat_minor": 2
}
